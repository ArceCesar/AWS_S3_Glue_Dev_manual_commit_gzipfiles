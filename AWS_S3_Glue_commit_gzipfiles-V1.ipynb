{
 "cells": [
  {
   "cell_type": "markdown",
   "id": "266442be",
   "metadata": {
    "hide_input": false
   },
   "source": [
    "## Script to transfert manual commit from text file AWS S3 Glue gzip files"
   ]
  },
  {
   "cell_type": "code",
   "execution_count": null,
   "id": "509e9a0a",
   "metadata": {},
   "outputs": [],
   "source": [
    "# Target: Create a TEXT File with all Sources and Targets of the \"bucketname\"\n",
    "'''aws s3 mv  s3://agropur-global-nonprod-account-dev-sapco/SAPCO/Inbound/Financials/Costing/ \n",
    "   s3://agropur-global-nonprod-account-dev-sapco/SAPCO/Archive/Financials/Costing/ --recursive'''"
   ]
  },
  {
   "cell_type": "code",
   "execution_count": 1,
   "id": "f6603c9c",
   "metadata": {
    "hide_input": false
   },
   "outputs": [],
   "source": [
    "# Import Libraries\n",
    "import sys\n",
    "import os\n",
    "import re\n",
    "import pandas as pd\n",
    "import boto3"
   ]
  },
  {
   "cell_type": "code",
   "execution_count": 2,
   "id": "df555f57",
   "metadata": {
    "hide_input": false
   },
   "outputs": [],
   "source": [
    "bucketname = \"s3://agropur-global-nonprod-account-dev-sapco\"\n",
    "s3 = boto3.resource('s3')\n",
    "my_bucket = s3.Bucket(bucketname)\n",
    "dev_source = pd.read_excel(\"Treeview_Compartiments_dev_sapco.xlsx\") #,skipinitialspace = True)"
   ]
  },
  {
   "cell_type": "code",
   "execution_count": 3,
   "id": "5fa99834",
   "metadata": {},
   "outputs": [],
   "source": [
    "new_dev_source= dev_source[['source','target']]"
   ]
  },
  {
   "cell_type": "code",
   "execution_count": 4,
   "id": "84dd54fe",
   "metadata": {},
   "outputs": [
    {
     "data": {
      "text/plain": [
       "0                     /SAPCO/Archive/Financials/Costing/\n",
       "1               /SAPCO/Archive/Financials/Profitability/\n",
       "2      /SAPCO/Archive/Financials/Profitability/Histor...\n",
       "3                     /SAPCO/Archive/Inventory/Balances/\n",
       "4                 /SAPCO/Archive/Inventory/Transactions/\n",
       "                             ...                        \n",
       "182            /SAPCO/Archive/MASTER_DATA_TABLES/SC/TRM/\n",
       "183           /SAPCO/Archive/MASTER_DATA_TABLES/SC/TRMC/\n",
       "184        /SAPCO/Archive/MASTER_DATA_TABLES/SC/TRMCARR/\n",
       "185            /SAPCO/Archive/MASTER_DATA_TABLES/SC/TVST\n",
       "186         /SAPCO/Archive/MASTER_DATA_TABLES/TEST/T001/\n",
       "Name: target, Length: 187, dtype: object"
      ]
     },
     "execution_count": 4,
     "metadata": {},
     "output_type": "execute_result"
    }
   ],
   "source": [
    "new_dev_source['source'].str.lstrip()\n",
    "new_dev_source['target'].str.lstrip()"
   ]
  },
  {
   "cell_type": "code",
   "execution_count": 5,
   "id": "8f4e5305",
   "metadata": {},
   "outputs": [
    {
     "data": {
      "text/html": [
       "<div>\n",
       "<style scoped>\n",
       "    .dataframe tbody tr th:only-of-type {\n",
       "        vertical-align: middle;\n",
       "    }\n",
       "\n",
       "    .dataframe tbody tr th {\n",
       "        vertical-align: top;\n",
       "    }\n",
       "\n",
       "    .dataframe thead th {\n",
       "        text-align: right;\n",
       "    }\n",
       "</style>\n",
       "<table border=\"1\" class=\"dataframe\">\n",
       "  <thead>\n",
       "    <tr style=\"text-align: right;\">\n",
       "      <th></th>\n",
       "      <th>source</th>\n",
       "      <th>target</th>\n",
       "    </tr>\n",
       "  </thead>\n",
       "  <tbody>\n",
       "    <tr>\n",
       "      <th>0</th>\n",
       "      <td>/SAPCO/Inbound/Financials/Costing/</td>\n",
       "      <td>/SAPCO/Archive/Financials/Costing/</td>\n",
       "    </tr>\n",
       "    <tr>\n",
       "      <th>1</th>\n",
       "      <td>/SAPCO/Inbound/Financials/Profitability/</td>\n",
       "      <td>/SAPCO/Archive/Financials/Profitability/</td>\n",
       "    </tr>\n",
       "    <tr>\n",
       "      <th>2</th>\n",
       "      <td>/SAPCO/Inbound/Financials/Profitability/Histor...</td>\n",
       "      <td>/SAPCO/Archive/Financials/Profitability/Histor...</td>\n",
       "    </tr>\n",
       "    <tr>\n",
       "      <th>3</th>\n",
       "      <td>/SAPCO/Inbound/Inventory/Balances/</td>\n",
       "      <td>/SAPCO/Archive/Inventory/Balances/</td>\n",
       "    </tr>\n",
       "    <tr>\n",
       "      <th>4</th>\n",
       "      <td>/SAPCO/Inbound/Inventory/Transactions/</td>\n",
       "      <td>/SAPCO/Archive/Inventory/Transactions/</td>\n",
       "    </tr>\n",
       "  </tbody>\n",
       "</table>\n",
       "</div>"
      ],
      "text/plain": [
       "                                              source  \\\n",
       "0                 /SAPCO/Inbound/Financials/Costing/   \n",
       "1           /SAPCO/Inbound/Financials/Profitability/   \n",
       "2  /SAPCO/Inbound/Financials/Profitability/Histor...   \n",
       "3                 /SAPCO/Inbound/Inventory/Balances/   \n",
       "4             /SAPCO/Inbound/Inventory/Transactions/   \n",
       "\n",
       "                                              target  \n",
       "0                 /SAPCO/Archive/Financials/Costing/  \n",
       "1           /SAPCO/Archive/Financials/Profitability/  \n",
       "2  /SAPCO/Archive/Financials/Profitability/Histor...  \n",
       "3                 /SAPCO/Archive/Inventory/Balances/  \n",
       "4             /SAPCO/Archive/Inventory/Transactions/  "
      ]
     },
     "execution_count": 5,
     "metadata": {},
     "output_type": "execute_result"
    }
   ],
   "source": [
    "new_dev_source.head()"
   ]
  },
  {
   "cell_type": "code",
   "execution_count": null,
   "id": "4e682d93",
   "metadata": {},
   "outputs": [],
   "source": [
    "bucketname = \"s3://agropur-global-nonprod-account-dev-sapco\"\n",
    "for i in range(len(new_dev_source)):\n",
    "    print('aws s3 mv ', bucketname, new_dev_source.loc[i, \"source\"], ' ', bucketname, new_dev_source.loc[i, \"target\"], ' --recursive', sep='')"
   ]
  },
  {
   "cell_type": "code",
   "execution_count": 7,
   "id": "16666077",
   "metadata": {},
   "outputs": [
    {
     "ename": "SyntaxError",
     "evalue": "invalid syntax (3450642301.py, line 3)",
     "output_type": "error",
     "traceback": [
      "\u001b[1;36m  Input \u001b[1;32mIn [7]\u001b[1;36m\u001b[0m\n\u001b[1;33m    line = \"aws s3 mv s3://agropur-global-nonprod-account-dev-sapco\"+new_dev_source.loc[i, \"source\"] +\u001b[0m\n\u001b[1;37m                                                                                                       ^\u001b[0m\n\u001b[1;31mSyntaxError\u001b[0m\u001b[1;31m:\u001b[0m invalid syntax\n"
     ]
    }
   ],
   "source": [
    "with open('AWS_S3_Glue_commit_dev_Inbound_to_Archive.txt', 'w') as f:\n",
    "    for i in range(len(new_dev_source)):\n",
    "        line = \"aws s3 mv s3://agropur-global-nonprod-account-dev-sapco\"+new_dev_source.loc[i, \"source\"] + \" s3://agropur-global-nonprod-account-dev-sapco\"+new_dev_source.loc[i, \"target\"]+\" --recursive\"\n",
    "        f.write(line+ \"\\n\")"
   ]
  },
  {
   "cell_type": "code",
   "execution_count": null,
   "id": "51152f82",
   "metadata": {},
   "outputs": [],
   "source": []
  }
 ],
 "metadata": {
  "hide_input": false,
  "kernelspec": {
   "display_name": "Python 3 (ipykernel)",
   "language": "python",
   "name": "python3"
  },
  "language_info": {
   "codemirror_mode": {
    "name": "ipython",
    "version": 3
   },
   "file_extension": ".py",
   "mimetype": "text/x-python",
   "name": "python",
   "nbconvert_exporter": "python",
   "pygments_lexer": "ipython3",
   "version": "3.9.13"
  },
  "nbTranslate": {
   "displayLangs": [
    "*"
   ],
   "hotkey": "alt-t",
   "langInMainMenu": true,
   "sourceLang": "en",
   "targetLang": "fr",
   "useGoogleTranslate": true
  },
  "varInspector": {
   "cols": {
    "lenName": 16,
    "lenType": 16,
    "lenVar": 40
   },
   "kernels_config": {
    "python": {
     "delete_cmd_postfix": "",
     "delete_cmd_prefix": "del ",
     "library": "var_list.py",
     "varRefreshCmd": "print(var_dic_list())"
    },
    "r": {
     "delete_cmd_postfix": ") ",
     "delete_cmd_prefix": "rm(",
     "library": "var_list.r",
     "varRefreshCmd": "cat(var_dic_list()) "
    }
   },
   "types_to_exclude": [
    "module",
    "function",
    "builtin_function_or_method",
    "instance",
    "_Feature"
   ],
   "window_display": false
  }
 },
 "nbformat": 4,
 "nbformat_minor": 5
}
